{
 "cells": [
  {
   "cell_type": "markdown",
   "id": "9e3b5f80-7733-4e3b-b1fd-c3749e8b8a71",
   "metadata": {},
   "source": [
    "# Is comedy dead? Rotten Tomatoes database EDA "
   ]
  },
  {
   "cell_type": "markdown",
   "id": "ebc733c5-0740-4733-8999-f56de90378f1",
   "metadata": {
    "tags": []
   },
   "source": [
    "## Introduction"
   ]
  },
  {
   "cell_type": "markdown",
   "id": "3cd9ec69-08fd-479d-9b00-1267d318628f",
   "metadata": {},
   "source": [
    "The main goal of this study is to determine whether people still enjoy comedy movies."
   ]
  },
  {
   "cell_type": "markdown",
   "id": "1c7e1a3f-d573-42c8-ab5f-5733cac73fcc",
   "metadata": {},
   "source": [
    "Questions to explore:\n",
    "\n",
    "1. How have audience ratings for comedy movies changed over the years?\n",
    "2. Are comedy movies rated higher or lower compared to other genres?\n",
    "3. Do critics and audiences rate comedy movies differently?\n",
    "\n",
    "4. Is the difference between critics' and audience ratings (e.g., critics vs. the public) for comedies larger than for other genres?\n",
    "5. Which studios produce the highest-rated comedy movies?\n",
    "6. Is the number of comedy releases in theaters and on streaming platforms decreasing?\n",
    "7. Do longer comedy movies receive higher or lower ratings?"
   ]
  },
  {
   "cell_type": "markdown",
   "id": "bbf60188-0dde-4262-b8a7-0c3ec9379496",
   "metadata": {},
   "source": [
    "Statistical methods Used:\n",
    "Descriptive Statistics, \n",
    "Shapiro-Wilk Test, \n",
    "Mann-Whitney U Test, \n",
    "Pearson Correlation\n",
    "Data Visualization – Boxplots, scatterplot and histograms"
   ]
  },
  {
   "cell_type": "markdown",
   "id": "033e1c42-8252-4db6-8fbc-f61030c99c5f",
   "metadata": {},
   "source": [
    "## Exploratory Data Analysis"
   ]
  },
  {
   "cell_type": "markdown",
   "id": "0cbbfdac-0070-460f-b2ca-9771bcf68f8a",
   "metadata": {
    "tags": []
   },
   "source": [
    "### Importing libraries and data"
   ]
  },
  {
   "cell_type": "code",
   "execution_count": 1,
   "id": "b94cfb85-8b95-41a4-9982-9d20998f9949",
   "metadata": {},
   "outputs": [],
   "source": [
    "import numpy as np\n",
    "import pandas as pd\n",
    "import matplotlib.pyplot as plt\n",
    "import seaborn as sns\n",
    "from statsmodels.stats.weightstats import ttest_ind\n",
    "from scipy.stats import pearsonr\n",
    "import scipy.stats as stats"
   ]
  },
  {
   "cell_type": "code",
   "execution_count": 2,
   "id": "e43530e7-c463-4745-88cf-1cbf2183e52d",
   "metadata": {},
   "outputs": [],
   "source": [
    "df = pd.read_csv(r'Rotten Tomatoes Movies.csv')"
   ]
  },
  {
   "cell_type": "markdown",
   "id": "2023876e-8444-40c3-a613-8371307b6085",
   "metadata": {
    "tags": []
   },
   "source": [
    "### Data cleaning"
   ]
  },
  {
   "cell_type": "code",
   "execution_count": 3,
   "id": "0a605d92-f642-4a3e-8106-d82c6ad1231c",
   "metadata": {},
   "outputs": [],
   "source": [
    "df['rating'] = df['rating'].str.replace('R)', 'R')\n",
    "df['rating'] = df['rating'].str.replace('PG-13)', 'PG-13')\n",
    "\n",
    "df['in_theaters_date'] = pd.to_datetime(df['in_theaters_date'])\n",
    "df['on_streaming_date   '] = pd.to_datetime(df['on_streaming_date'])"
   ]
  },
  {
   "cell_type": "markdown",
   "id": "c1067c9a-80ff-4f1c-9e57-ea699ae1d75a",
   "metadata": {
    "jp-MarkdownHeadingCollapsed": true,
    "tags": []
   },
   "source": [
    "### Basic data exploration"
   ]
  },
  {
   "cell_type": "code",
   "execution_count": 4,
   "id": "adf2903d-f68a-44d2-afc8-54d41d36436d",
   "metadata": {
    "tags": []
   },
   "outputs": [
    {
     "data": {
      "text/html": [
       "<div>\n",
       "<style scoped>\n",
       "    .dataframe tbody tr th:only-of-type {\n",
       "        vertical-align: middle;\n",
       "    }\n",
       "\n",
       "    .dataframe tbody tr th {\n",
       "        vertical-align: top;\n",
       "    }\n",
       "\n",
       "    .dataframe thead th {\n",
       "        text-align: right;\n",
       "    }\n",
       "</style>\n",
       "<table border=\"1\" class=\"dataframe\">\n",
       "  <thead>\n",
       "    <tr style=\"text-align: right;\">\n",
       "      <th></th>\n",
       "      <th>movie_title</th>\n",
       "      <th>movie_info</th>\n",
       "      <th>critics_consensus</th>\n",
       "      <th>rating</th>\n",
       "      <th>genre</th>\n",
       "      <th>directors</th>\n",
       "      <th>writers</th>\n",
       "      <th>cast</th>\n",
       "      <th>in_theaters_date</th>\n",
       "      <th>on_streaming_date</th>\n",
       "      <th>runtime_in_minutes</th>\n",
       "      <th>studio_name</th>\n",
       "      <th>tomatometer_status</th>\n",
       "      <th>tomatometer_rating</th>\n",
       "      <th>tomatometer_count</th>\n",
       "      <th>audience_rating</th>\n",
       "      <th>audience_count</th>\n",
       "      <th>on_streaming_date</th>\n",
       "    </tr>\n",
       "  </thead>\n",
       "  <tbody>\n",
       "    <tr>\n",
       "      <th>9355</th>\n",
       "      <td>Mad Max: Fury Road</td>\n",
       "      <td>Filmmaker George Miller gears up for another p...</td>\n",
       "      <td>With exhilarating action and a surprising amou...</td>\n",
       "      <td>R</td>\n",
       "      <td>Action &amp; Adventure, Science Fiction &amp; Fantasy</td>\n",
       "      <td>George Miller</td>\n",
       "      <td>Brendan McCarthy, Nick Lathouris, George Miller</td>\n",
       "      <td>Tom Hardy, Charlize Theron, Nicholas Hoult, Ro...</td>\n",
       "      <td>2015-05-15</td>\n",
       "      <td>2015-09-01</td>\n",
       "      <td>120.0</td>\n",
       "      <td>Warner Bros.</td>\n",
       "      <td>Certified Fresh</td>\n",
       "      <td>97</td>\n",
       "      <td>410</td>\n",
       "      <td>85.0</td>\n",
       "      <td>127428.0</td>\n",
       "      <td>2015-09-01</td>\n",
       "    </tr>\n",
       "    <tr>\n",
       "      <th>11366</th>\n",
       "      <td>The Pride and the Passion</td>\n",
       "      <td>Set in Spain during the early 1800s, this acti...</td>\n",
       "      <td>NaN</td>\n",
       "      <td>NR</td>\n",
       "      <td>Action &amp; Adventure, Classics, Drama</td>\n",
       "      <td>Stanley Kramer, Frank Kramer</td>\n",
       "      <td>Edna Anhalt, Edward Anhalt</td>\n",
       "      <td>Cary Grant, Sophia Loren, Frank Sinatra, Theod...</td>\n",
       "      <td>1957-01-01</td>\n",
       "      <td>2002-05-07</td>\n",
       "      <td>132.0</td>\n",
       "      <td>United Artists</td>\n",
       "      <td>Rotten</td>\n",
       "      <td>25</td>\n",
       "      <td>8</td>\n",
       "      <td>25.0</td>\n",
       "      <td>1635.0</td>\n",
       "      <td>2002-05-07</td>\n",
       "    </tr>\n",
       "    <tr>\n",
       "      <th>1872</th>\n",
       "      <td>24 City (Er shi si cheng ji)</td>\n",
       "      <td>Chengdu, nowadays. The state-owned factory 420...</td>\n",
       "      <td>One of China's most talented directors blurs t...</td>\n",
       "      <td>G</td>\n",
       "      <td>Art House &amp; International, Documentary, Drama</td>\n",
       "      <td>Zhangke Jia</td>\n",
       "      <td>Zhangke Jia, Signe Baumane, Yongming Zhai</td>\n",
       "      <td>Joan Chen, Liping Lu, Tao Zhao, Chen Jianbin, ...</td>\n",
       "      <td>2008-05-17</td>\n",
       "      <td>2010-01-12</td>\n",
       "      <td>107.0</td>\n",
       "      <td>FilmsWeLike</td>\n",
       "      <td>Certified Fresh</td>\n",
       "      <td>91</td>\n",
       "      <td>43</td>\n",
       "      <td>71.0</td>\n",
       "      <td>1121.0</td>\n",
       "      <td>2010-01-12</td>\n",
       "    </tr>\n",
       "    <tr>\n",
       "      <th>12523</th>\n",
       "      <td>Shriek If You Know What I Did Last Friday the ...</td>\n",
       "      <td>Several of the biggest teen horror hits of the...</td>\n",
       "      <td>NaN</td>\n",
       "      <td>R</td>\n",
       "      <td>Comedy, Horror</td>\n",
       "      <td>John Blanchard</td>\n",
       "      <td>Sue Bailey, Joe Nelms</td>\n",
       "      <td>Tiffani Thiessen, Tom Arnold, Coolio, Julie Be...</td>\n",
       "      <td>2000-01-01</td>\n",
       "      <td>2001-11-06</td>\n",
       "      <td>86.0</td>\n",
       "      <td>Trimark</td>\n",
       "      <td>Rotten</td>\n",
       "      <td>14</td>\n",
       "      <td>7</td>\n",
       "      <td>31.0</td>\n",
       "      <td>19871.0</td>\n",
       "      <td>2001-11-06</td>\n",
       "    </tr>\n",
       "    <tr>\n",
       "      <th>9457</th>\n",
       "      <td>Man of the Century</td>\n",
       "      <td>Johnny Twenties (Gibson Frazier) is a man who ...</td>\n",
       "      <td>NaN</td>\n",
       "      <td>R</td>\n",
       "      <td>Comedy, Drama</td>\n",
       "      <td>Adam Abraham</td>\n",
       "      <td>Gibson Frazier, Adam Abraham</td>\n",
       "      <td>Gibson Frazier, Cara Buono, Brian Davies, Susa...</td>\n",
       "      <td>1999-10-29</td>\n",
       "      <td>2002-08-06</td>\n",
       "      <td>80.0</td>\n",
       "      <td>Sun-Telegram Pictures</td>\n",
       "      <td>Fresh</td>\n",
       "      <td>71</td>\n",
       "      <td>17</td>\n",
       "      <td>77.0</td>\n",
       "      <td>898.0</td>\n",
       "      <td>2002-08-06</td>\n",
       "    </tr>\n",
       "  </tbody>\n",
       "</table>\n",
       "</div>"
      ],
      "text/plain": [
       "                                             movie_title  \\\n",
       "9355                                  Mad Max: Fury Road   \n",
       "11366                          The Pride and the Passion   \n",
       "1872                        24 City (Er shi si cheng ji)   \n",
       "12523  Shriek If You Know What I Did Last Friday the ...   \n",
       "9457                                  Man of the Century   \n",
       "\n",
       "                                              movie_info  \\\n",
       "9355   Filmmaker George Miller gears up for another p...   \n",
       "11366  Set in Spain during the early 1800s, this acti...   \n",
       "1872   Chengdu, nowadays. The state-owned factory 420...   \n",
       "12523  Several of the biggest teen horror hits of the...   \n",
       "9457   Johnny Twenties (Gibson Frazier) is a man who ...   \n",
       "\n",
       "                                       critics_consensus rating  \\\n",
       "9355   With exhilarating action and a surprising amou...      R   \n",
       "11366                                                NaN     NR   \n",
       "1872   One of China's most talented directors blurs t...      G   \n",
       "12523                                                NaN      R   \n",
       "9457                                                 NaN      R   \n",
       "\n",
       "                                               genre  \\\n",
       "9355   Action & Adventure, Science Fiction & Fantasy   \n",
       "11366            Action & Adventure, Classics, Drama   \n",
       "1872   Art House & International, Documentary, Drama   \n",
       "12523                                 Comedy, Horror   \n",
       "9457                                   Comedy, Drama   \n",
       "\n",
       "                          directors  \\\n",
       "9355                  George Miller   \n",
       "11366  Stanley Kramer, Frank Kramer   \n",
       "1872                    Zhangke Jia   \n",
       "12523                John Blanchard   \n",
       "9457                   Adam Abraham   \n",
       "\n",
       "                                               writers  \\\n",
       "9355   Brendan McCarthy, Nick Lathouris, George Miller   \n",
       "11366                       Edna Anhalt, Edward Anhalt   \n",
       "1872         Zhangke Jia, Signe Baumane, Yongming Zhai   \n",
       "12523                            Sue Bailey, Joe Nelms   \n",
       "9457                      Gibson Frazier, Adam Abraham   \n",
       "\n",
       "                                                    cast in_theaters_date  \\\n",
       "9355   Tom Hardy, Charlize Theron, Nicholas Hoult, Ro...       2015-05-15   \n",
       "11366  Cary Grant, Sophia Loren, Frank Sinatra, Theod...       1957-01-01   \n",
       "1872   Joan Chen, Liping Lu, Tao Zhao, Chen Jianbin, ...       2008-05-17   \n",
       "12523  Tiffani Thiessen, Tom Arnold, Coolio, Julie Be...       2000-01-01   \n",
       "9457   Gibson Frazier, Cara Buono, Brian Davies, Susa...       1999-10-29   \n",
       "\n",
       "      on_streaming_date  runtime_in_minutes            studio_name  \\\n",
       "9355         2015-09-01               120.0           Warner Bros.   \n",
       "11366        2002-05-07               132.0         United Artists   \n",
       "1872         2010-01-12               107.0            FilmsWeLike   \n",
       "12523        2001-11-06                86.0                Trimark   \n",
       "9457         2002-08-06                80.0  Sun-Telegram Pictures   \n",
       "\n",
       "      tomatometer_status  tomatometer_rating  tomatometer_count  \\\n",
       "9355     Certified Fresh                  97                410   \n",
       "11366             Rotten                  25                  8   \n",
       "1872     Certified Fresh                  91                 43   \n",
       "12523             Rotten                  14                  7   \n",
       "9457               Fresh                  71                 17   \n",
       "\n",
       "       audience_rating  audience_count on_streaming_date     \n",
       "9355              85.0        127428.0           2015-09-01  \n",
       "11366             25.0          1635.0           2002-05-07  \n",
       "1872              71.0          1121.0           2010-01-12  \n",
       "12523             31.0         19871.0           2001-11-06  \n",
       "9457              77.0           898.0           2002-08-06  "
      ]
     },
     "execution_count": 4,
     "metadata": {},
     "output_type": "execute_result"
    }
   ],
   "source": [
    "df.sample(5)"
   ]
  },
  {
   "cell_type": "code",
   "execution_count": 5,
   "id": "009b6fa4-3bec-4496-a48e-71d8c9e427c3",
   "metadata": {},
   "outputs": [
    {
     "name": "stdout",
     "output_type": "stream",
     "text": [
      "<class 'pandas.core.frame.DataFrame'>\n",
      "RangeIndex: 16638 entries, 0 to 16637\n",
      "Data columns (total 18 columns):\n",
      " #   Column                Non-Null Count  Dtype         \n",
      "---  ------                --------------  -----         \n",
      " 0   movie_title           16638 non-null  object        \n",
      " 1   movie_info            16614 non-null  object        \n",
      " 2   critics_consensus     8309 non-null   object        \n",
      " 3   rating                16638 non-null  object        \n",
      " 4   genre                 16621 non-null  object        \n",
      " 5   directors             16524 non-null  object        \n",
      " 6   writers               15289 non-null  object        \n",
      " 7   cast                  16354 non-null  object        \n",
      " 8   in_theaters_date      15823 non-null  datetime64[ns]\n",
      " 9   on_streaming_date     16636 non-null  object        \n",
      " 10  runtime_in_minutes    16483 non-null  float64       \n",
      " 11  studio_name           16222 non-null  object        \n",
      " 12  tomatometer_status    16638 non-null  object        \n",
      " 13  tomatometer_rating    16638 non-null  int64         \n",
      " 14  tomatometer_count     16638 non-null  int64         \n",
      " 15  audience_rating       16386 non-null  float64       \n",
      " 16  audience_count        16386 non-null  float64       \n",
      " 17  on_streaming_date     16636 non-null  datetime64[ns]\n",
      "dtypes: datetime64[ns](2), float64(3), int64(2), object(11)\n",
      "memory usage: 2.3+ MB\n"
     ]
    }
   ],
   "source": [
    "df.info()"
   ]
  },
  {
   "cell_type": "markdown",
   "id": "195dbf95-9e8d-4a51-b75c-72d22eeaddda",
   "metadata": {
    "tags": []
   },
   "source": [
    "### Descriptive statistics for numerical data"
   ]
  },
  {
   "cell_type": "markdown",
   "id": "c0d5e449-ceab-41fd-b522-2fad2c92be79",
   "metadata": {},
   "source": [
    "I am only considering movies with more than 100,000 audience ratings to ensure data reliability and reduce noise from less popular films. Movies with very few ratings might not accurately reflect audience sentiment."
   ]
  },
  {
   "cell_type": "code",
   "execution_count": 6,
   "id": "04fad001-534c-4c96-ab2d-6156759b4abb",
   "metadata": {},
   "outputs": [],
   "source": [
    "df = df[df['audience_count'] >= 100000]"
   ]
  },
  {
   "cell_type": "code",
   "execution_count": 7,
   "id": "d3d5e69d-82a1-4bcf-9113-03791836df10",
   "metadata": {},
   "outputs": [
    {
     "data": {
      "text/html": [
       "<div>\n",
       "<style scoped>\n",
       "    .dataframe tbody tr th:only-of-type {\n",
       "        vertical-align: middle;\n",
       "    }\n",
       "\n",
       "    .dataframe tbody tr th {\n",
       "        vertical-align: top;\n",
       "    }\n",
       "\n",
       "    .dataframe thead th {\n",
       "        text-align: right;\n",
       "    }\n",
       "</style>\n",
       "<table border=\"1\" class=\"dataframe\">\n",
       "  <thead>\n",
       "    <tr style=\"text-align: right;\">\n",
       "      <th></th>\n",
       "      <th>runtime_in_minutes</th>\n",
       "      <th>tomatometer_rating</th>\n",
       "      <th>tomatometer_count</th>\n",
       "      <th>audience_rating</th>\n",
       "      <th>audience_count</th>\n",
       "    </tr>\n",
       "  </thead>\n",
       "  <tbody>\n",
       "    <tr>\n",
       "      <th>count</th>\n",
       "      <td>1934.000000</td>\n",
       "      <td>1934.000000</td>\n",
       "      <td>1934.000000</td>\n",
       "      <td>1934.000000</td>\n",
       "      <td>1.934000e+03</td>\n",
       "    </tr>\n",
       "    <tr>\n",
       "      <th>mean</th>\n",
       "      <td>109.702172</td>\n",
       "      <td>56.816960</td>\n",
       "      <td>137.985522</td>\n",
       "      <td>65.634436</td>\n",
       "      <td>1.200525e+06</td>\n",
       "    </tr>\n",
       "    <tr>\n",
       "      <th>std</th>\n",
       "      <td>20.770772</td>\n",
       "      <td>27.083699</td>\n",
       "      <td>76.475375</td>\n",
       "      <td>18.743684</td>\n",
       "      <td>5.172878e+06</td>\n",
       "    </tr>\n",
       "    <tr>\n",
       "      <th>min</th>\n",
       "      <td>2.000000</td>\n",
       "      <td>0.000000</td>\n",
       "      <td>5.000000</td>\n",
       "      <td>16.000000</td>\n",
       "      <td>1.003720e+05</td>\n",
       "    </tr>\n",
       "    <tr>\n",
       "      <th>25%</th>\n",
       "      <td>95.000000</td>\n",
       "      <td>34.000000</td>\n",
       "      <td>74.000000</td>\n",
       "      <td>52.000000</td>\n",
       "      <td>1.740745e+05</td>\n",
       "    </tr>\n",
       "    <tr>\n",
       "      <th>50%</th>\n",
       "      <td>106.000000</td>\n",
       "      <td>58.000000</td>\n",
       "      <td>133.500000</td>\n",
       "      <td>67.000000</td>\n",
       "      <td>2.701710e+05</td>\n",
       "    </tr>\n",
       "    <tr>\n",
       "      <th>75%</th>\n",
       "      <td>120.000000</td>\n",
       "      <td>81.000000</td>\n",
       "      <td>189.000000</td>\n",
       "      <td>81.750000</td>\n",
       "      <td>4.481585e+05</td>\n",
       "    </tr>\n",
       "    <tr>\n",
       "      <th>max</th>\n",
       "      <td>222.000000</td>\n",
       "      <td>100.000000</td>\n",
       "      <td>454.000000</td>\n",
       "      <td>98.000000</td>\n",
       "      <td>3.579764e+07</td>\n",
       "    </tr>\n",
       "  </tbody>\n",
       "</table>\n",
       "</div>"
      ],
      "text/plain": [
       "       runtime_in_minutes  tomatometer_rating  tomatometer_count  \\\n",
       "count         1934.000000         1934.000000        1934.000000   \n",
       "mean           109.702172           56.816960         137.985522   \n",
       "std             20.770772           27.083699          76.475375   \n",
       "min              2.000000            0.000000           5.000000   \n",
       "25%             95.000000           34.000000          74.000000   \n",
       "50%            106.000000           58.000000         133.500000   \n",
       "75%            120.000000           81.000000         189.000000   \n",
       "max            222.000000          100.000000         454.000000   \n",
       "\n",
       "       audience_rating  audience_count  \n",
       "count      1934.000000    1.934000e+03  \n",
       "mean         65.634436    1.200525e+06  \n",
       "std          18.743684    5.172878e+06  \n",
       "min          16.000000    1.003720e+05  \n",
       "25%          52.000000    1.740745e+05  \n",
       "50%          67.000000    2.701710e+05  \n",
       "75%          81.750000    4.481585e+05  \n",
       "max          98.000000    3.579764e+07  "
      ]
     },
     "execution_count": 7,
     "metadata": {},
     "output_type": "execute_result"
    }
   ],
   "source": [
    "df.describe(include=[np.number])"
   ]
  },
  {
   "cell_type": "code",
   "execution_count": 8,
   "id": "37b6d197-113c-4b07-b9e8-ce1431523101",
   "metadata": {},
   "outputs": [
    {
     "data": {
      "text/html": [
       "<div>\n",
       "<style scoped>\n",
       "    .dataframe tbody tr th:only-of-type {\n",
       "        vertical-align: middle;\n",
       "    }\n",
       "\n",
       "    .dataframe tbody tr th {\n",
       "        vertical-align: top;\n",
       "    }\n",
       "\n",
       "    .dataframe thead th {\n",
       "        text-align: right;\n",
       "    }\n",
       "</style>\n",
       "<table border=\"1\" class=\"dataframe\">\n",
       "  <thead>\n",
       "    <tr style=\"text-align: right;\">\n",
       "      <th></th>\n",
       "      <th>runtime_in_minutes</th>\n",
       "      <th>tomatometer_rating</th>\n",
       "      <th>tomatometer_count</th>\n",
       "      <th>audience_rating</th>\n",
       "      <th>audience_count</th>\n",
       "    </tr>\n",
       "  </thead>\n",
       "  <tbody>\n",
       "    <tr>\n",
       "      <th>runtime_in_minutes</th>\n",
       "      <td>1.000000</td>\n",
       "      <td>0.284444</td>\n",
       "      <td>0.338456</td>\n",
       "      <td>0.339766</td>\n",
       "      <td>0.091935</td>\n",
       "    </tr>\n",
       "    <tr>\n",
       "      <th>tomatometer_rating</th>\n",
       "      <td>0.284444</td>\n",
       "      <td>1.000000</td>\n",
       "      <td>0.232548</td>\n",
       "      <td>0.738962</td>\n",
       "      <td>0.077489</td>\n",
       "    </tr>\n",
       "    <tr>\n",
       "      <th>tomatometer_count</th>\n",
       "      <td>0.338456</td>\n",
       "      <td>0.232548</td>\n",
       "      <td>1.000000</td>\n",
       "      <td>0.137532</td>\n",
       "      <td>0.091901</td>\n",
       "    </tr>\n",
       "    <tr>\n",
       "      <th>audience_rating</th>\n",
       "      <td>0.339766</td>\n",
       "      <td>0.738962</td>\n",
       "      <td>0.137532</td>\n",
       "      <td>1.000000</td>\n",
       "      <td>0.008716</td>\n",
       "    </tr>\n",
       "    <tr>\n",
       "      <th>audience_count</th>\n",
       "      <td>0.091935</td>\n",
       "      <td>0.077489</td>\n",
       "      <td>0.091901</td>\n",
       "      <td>0.008716</td>\n",
       "      <td>1.000000</td>\n",
       "    </tr>\n",
       "  </tbody>\n",
       "</table>\n",
       "</div>"
      ],
      "text/plain": [
       "                    runtime_in_minutes  tomatometer_rating  tomatometer_count  \\\n",
       "runtime_in_minutes            1.000000            0.284444           0.338456   \n",
       "tomatometer_rating            0.284444            1.000000           0.232548   \n",
       "tomatometer_count             0.338456            0.232548           1.000000   \n",
       "audience_rating               0.339766            0.738962           0.137532   \n",
       "audience_count                0.091935            0.077489           0.091901   \n",
       "\n",
       "                    audience_rating  audience_count  \n",
       "runtime_in_minutes         0.339766        0.091935  \n",
       "tomatometer_rating         0.738962        0.077489  \n",
       "tomatometer_count          0.137532        0.091901  \n",
       "audience_rating            1.000000        0.008716  \n",
       "audience_count             0.008716        1.000000  "
      ]
     },
     "execution_count": 8,
     "metadata": {},
     "output_type": "execute_result"
    }
   ],
   "source": [
    "df.corr(numeric_only=True)"
   ]
  },
  {
   "cell_type": "markdown",
   "id": "36bf87c6-0949-4380-8b9c-00b7d5a147d5",
   "metadata": {},
   "source": [
    "## Questions"
   ]
  },
  {
   "cell_type": "markdown",
   "id": "b20249bb-bd63-4681-b1a7-696f75fa367c",
   "metadata": {
    "jp-MarkdownHeadingCollapsed": true,
    "tags": []
   },
   "source": [
    "### Question 1: How have audience ratings for comedy movies changed over the years?"
   ]
  },
  {
   "cell_type": "code",
   "execution_count": 10,
   "id": "bfd2cf82-b0a7-4295-a71e-c9a11728d029",
   "metadata": {},
   "outputs": [
    {
     "name": "stdout",
     "output_type": "stream",
     "text": [
      "There are 1934 comedies in the dataset.\n"
     ]
    }
   ],
   "source": [
    "df['is_comedy'] = np.where(df['genre'].str.contains('Comedy'), 1, 0)\n",
    "df['in_theaters_year'] = pd.to_datetime(df['in_theaters_date'], errors='coerce').dt.year\n",
    "\n",
    "print(f\"There are {len(df['is_comedy'])} comedies in the dataset.\")"
   ]
  },
  {
   "cell_type": "code",
   "execution_count": 11,
   "id": "3b5bcfec-c05b-4824-a961-0f9383ffa420",
   "metadata": {},
   "outputs": [],
   "source": [
    "audience_ratings = df.groupby('in_theaters_year')[['audience_rating']].mean()"
   ]
  },
  {
   "cell_type": "code",
   "execution_count": 12,
   "id": "b359f33e-7de3-4d68-8d49-314930106075",
   "metadata": {},
   "outputs": [
    {
     "data": {
      "image/png": "[encoded data removed]",
      "text/plain": [
       "<Figure size 720x360 with 1 Axes>"
      ]
     },
     "metadata": {
      "needs_background": "light"
     },
     "output_type": "display_data"
    }
   ],
   "source": [
    "plt.figure(figsize=(10, 5))\n",
    "plt.plot(audience_ratings.index, audience_ratings.values, marker='o', color='navy', linestyle='-', label='Average Audience Rating')\n",
    "\n",
    "plt.title('Audience Ratings for Comedy Movies Over the Years')\n",
    "plt.xlabel('Year')\n",
    "plt.ylim(0)\n",
    "plt.ylabel('Average Audience Rating')\n",
    "\n",
    "plt.legend()\n",
    "plt.show()"
   ]
  },
  {
   "cell_type": "markdown",
   "id": "2af48e72-b7c7-4569-958c-02893580bc17",
   "metadata": {},
   "source": [
    "<i><b>Answer: Yes, movie ratings have changed over the years. The average ratings declined from the 1970s until the late 2000s, when they started to rise again.</b></i>"
   ]
  },
  {
   "cell_type": "markdown",
   "id": "ef5ba430-a9aa-46b3-9aee-d952b4b4eb8d",
   "metadata": {
    "tags": []
   },
   "source": [
    "### Question 2: Are comedy movies rated higher or lower compared to other genres?"
   ]
  },
  {
   "cell_type": "code",
   "execution_count": 13,
   "id": "e8e0cd48-a99d-4036-bd66-ebe745c50abe",
   "metadata": {},
   "outputs": [
    {
     "data": {
      "text/html": [
       "<div>\n",
       "<style scoped>\n",
       "    .dataframe tbody tr th:only-of-type {\n",
       "        vertical-align: middle;\n",
       "    }\n",
       "\n",
       "    .dataframe tbody tr th {\n",
       "        vertical-align: top;\n",
       "    }\n",
       "\n",
       "    .dataframe thead th {\n",
       "        text-align: right;\n",
       "    }\n",
       "</style>\n",
       "<table border=\"1\" class=\"dataframe\">\n",
       "  <thead>\n",
       "    <tr style=\"text-align: right;\">\n",
       "      <th></th>\n",
       "      <th>audience_rating</th>\n",
       "      <th>tomatometer_rating</th>\n",
       "    </tr>\n",
       "    <tr>\n",
       "      <th>is_comedy</th>\n",
       "      <th></th>\n",
       "      <th></th>\n",
       "    </tr>\n",
       "  </thead>\n",
       "  <tbody>\n",
       "    <tr>\n",
       "      <th>Non-Comedy</th>\n",
       "      <td>67.534884</td>\n",
       "      <td>59.747764</td>\n",
       "    </tr>\n",
       "    <tr>\n",
       "      <th>Comedy</th>\n",
       "      <td>63.030637</td>\n",
       "      <td>52.801471</td>\n",
       "    </tr>\n",
       "  </tbody>\n",
       "</table>\n",
       "</div>"
      ],
      "text/plain": [
       "            audience_rating  tomatometer_rating\n",
       "is_comedy                                      \n",
       "Non-Comedy        67.534884           59.747764\n",
       "Comedy            63.030637           52.801471"
      ]
     },
     "execution_count": 13,
     "metadata": {},
     "output_type": "execute_result"
    }
   ],
   "source": [
    "rating_summary = df.groupby('is_comedy')[['audience_rating', 'tomatometer_rating']].mean().rename(index={0: 'Non-Comedy', 1: 'Comedy'})\n",
    "rating_summary"
   ]
  },
  {
   "cell_type": "code",
   "execution_count": 14,
   "id": "fce1c166-28ba-4321-a82c-5facdd081634",
   "metadata": {},
   "outputs": [],
   "source": [
    "comedy_audience_ratings = df[df['is_comedy'] == 1]['audience_rating'].dropna()\n",
    "non_comedy_audience_ratings = df[df['is_comedy'] == 0]['audience_rating'].dropna()\n",
    "\n",
    "comedy_critics_ratings = df[df['is_comedy'] == 1]['tomatometer_rating'].dropna()\n",
    "non_comedy_critics_ratings = df[df['is_comedy'] == 0]['tomatometer_rating'].dropna()"
   ]
  },
  {
   "cell_type": "code",
   "execution_count": 15,
   "id": "cf1bb867-e3d0-40a1-a009-fc8aa2e597ee",
   "metadata": {},
   "outputs": [
    {
     "data": {
      "image/png": "[encoded data removed]",
      "text/plain": [
       "<Figure size 576x864 with 2 Axes>"
      ]
     },
     "metadata": {
      "needs_background": "light"
     },
     "output_type": "display_data"
    }
   ],
   "source": [
    "plt.figure(figsize=(8,12))\n",
    "\n",
    "plt.subplot(2,1,1)\n",
    "plt.boxplot([comedy_audience_ratings, non_comedy_audience_ratings], vert=True, patch_artist=True, \n",
    "            boxprops=dict(facecolor=\"navy\", linewidth=2), widths=0.6)  # Szersze boxploty\n",
    "plt.xticks([1, 2], [\"Comedy\", \"Non-Comedy\"], fontsize=12)\n",
    "plt.ylabel(\"Audience Rating\", fontsize=14)\n",
    "plt.title(\"Audience Ratings: Comedy vs Non-Comedy\", fontsize=18)\n",
    "plt.ylim(0, max(comedy_audience_ratings.max(), non_comedy_audience_ratings.max()) * 1.1)  # Osie OY od zera\n",
    "\n",
    "plt.subplot(2,1,2)\n",
    "plt.boxplot([comedy_critics_ratings, non_comedy_critics_ratings], vert=True, patch_artist=True, \n",
    "            boxprops=dict(facecolor=\"navy\", linewidth=2), widths=0.6)  # Szersze boxploty\n",
    "plt.xticks([1, 2], [\"Comedy\", \"Non-Comedy\"], fontsize=12)\n",
    "plt.ylabel(\"Critics Rating\", fontsize=14)\n",
    "plt.title(\"Critics Ratings: Comedy vs Non-Comedy\", fontsize=18)\n",
    "plt.ylim(0, max(comedy_critics_ratings.max(), non_comedy_critics_ratings.max()) * 1.1)  # Osie OY od zera\n",
    "\n",
    "plt.tight_layout(pad=3)\n",
    "plt.show()"
   ]
  },
  {
   "cell_type": "markdown",
   "id": "3feac36e-9aca-4657-b2a9-ac994ab1ab4e",
   "metadata": {
    "tags": []
   },
   "source": [
    "To determine whether the ratings of comedy and non-comedy movies differ statistically, a two-sample mean test should be conducted. However, to choose the appropriate test, it is essential to first check for normality of distributions (Shapiro-Wilk test) and heteroskedasticity."
   ]
  },
  {
   "cell_type": "code",
   "execution_count": 16,
   "id": "ce31bfda-c9d3-4b5f-94d9-a4402d3dae3d",
   "metadata": {
    "tags": []
   },
   "outputs": [
    {
     "name": "stdout",
     "output_type": "stream",
     "text": [
      "Shapiro-Wilk Test for Normality:\n",
      "Comedy Audience Ratings: p = 1.8384466581624359e-10\n",
      "Non-Comedy Audience Ratings: p = 4.642756247656809e-18\n",
      "Comedy Critics Ratings: p = 4.25098052184368e-15\n",
      "Non-Comedy Critics Ratings: p = 6.434681791032066e-20\n",
      "\n"
     ]
    }
   ],
   "source": [
    "shapiro_comedy_audience = stats.shapiro(comedy_audience_ratings)\n",
    "shapiro_non_comedy_audience = stats.shapiro(non_comedy_audience_ratings)\n",
    "\n",
    "shapiro_comedy_critics = stats.shapiro(comedy_critics_ratings)\n",
    "shapiro_non_comedy_critics = stats.shapiro(non_comedy_critics_ratings)\n",
    "\n",
    "print(\"Shapiro-Wilk Test for Normality:\")\n",
    "print(f\"Comedy Audience Ratings: p = {shapiro_comedy_audience.pvalue}\")\n",
    "print(f\"Non-Comedy Audience Ratings: p = {shapiro_non_comedy_audience.pvalue}\")\n",
    "print(f\"Comedy Critics Ratings: p = {shapiro_comedy_critics.pvalue}\")\n",
    "print(f\"Non-Comedy Critics Ratings: p = {shapiro_non_comedy_critics.pvalue}\\n\")"
   ]
  },
  {
   "cell_type": "markdown",
   "id": "c21f9eda-b6a9-4186-89ae-d0ef5318882c",
   "metadata": {
    "tags": []
   },
   "source": [
    "Shapiro-Wilk test results indicate that all p-values are extremely small (< 0.05), meaning we reject the null hypothesis that the data is normally distributed. This suggests that none of the rating distributions are normal.\n",
    "There is no further point in checking heteroskedasticity, as the Mann-Whitney test will be used."
   ]
  },
  {
   "cell_type": "code",
   "execution_count": 17,
   "id": "b4d4ba62-54a1-449c-aecb-ec3e9cdca838",
   "metadata": {},
   "outputs": [
    {
     "name": "stdout",
     "output_type": "stream",
     "text": [
      "Mann-Whitney U test for Audience Ratings: U = 386195.5, p = 8.025736325754553e-09\n",
      "Mann-Whitney U test for Critics Ratings: U = 388497.5, p = 2.43688403130755e-08\n"
     ]
    }
   ],
   "source": [
    "# Mann-Whitney U test for audience ratings\n",
    "u_stat_audience, p_audience = stats.mannwhitneyu(comedy_audience_ratings, non_comedy_audience_ratings, alternative='two-sided')\n",
    "\n",
    "# Mann-Whitney U test for critics ratings\n",
    "u_stat_critics, p_critics = stats.mannwhitneyu(comedy_critics_ratings, non_comedy_critics_ratings, alternative='two-sided')\n",
    "\n",
    "print(f\"Mann-Whitney U test for Audience Ratings: U = {u_stat_audience}, p = {p_audience}\")\n",
    "print(f\"Mann-Whitney U test for Critics Ratings: U = {u_stat_critics}, p = {p_critics}\")"
   ]
  },
  {
   "cell_type": "markdown",
   "id": "1cb6ccfe-5e23-44cd-b15e-1df12007fdb6",
   "metadata": {},
   "source": [
    "<i><b>Answer: The results of the Mann-Whitney U test show a significant difference in audience ratings between comedy and non-comedy films (U = 386,195.5, p < 0.001), as well as in critics' ratings (U = 388,497.5, p < 0.001). Since the p-values are well below the 0.05 threshold, we reject the null hypothesis, indicating that comedy and non-comedy films are rated differently by both audiences and critics. However, this test does not determine which genre receives higher ratings, only that their distributions differ.</b></i>"
   ]
  },
  {
   "cell_type": "markdown",
   "id": "fa30538e-c10b-46db-942e-e56c611a4418",
   "metadata": {
    "tags": []
   },
   "source": [
    "### Question 3: Do critics and audiences rate comedy movies differently?"
   ]
  },
  {
   "cell_type": "code",
   "execution_count": 18,
   "id": "e00414d8-ee18-46c6-bbbe-b1d0de98f449",
   "metadata": {},
   "outputs": [
    {
     "data": {
      "text/plain": [
       "<Figure size 720x432 with 0 Axes>"
      ]
     },
     "metadata": {},
     "output_type": "display_data"
    },
    {
     "data": {
      "image/png": "[encoded data removed]",
      "text/plain": [
       "<Figure size 720x720 with 2 Axes>"
      ]
     },
     "metadata": {
      "needs_background": "light"
     },
     "output_type": "display_data"
    }
   ],
   "source": [
    "plt.figure(figsize=(10, 6))\n",
    "\n",
    "fig, axes = plt.subplots(2, 1, figsize=(10, 10), sharex=True)\n",
    "\n",
    "sns.histplot(comedy_audience_ratings, bins=20, color='navy', label='Audience Rating', alpha=1, ax=axes[0])\n",
    "axes[0].set_title('Audience Ratings for Comedy Movies', fontsize=14)\n",
    "axes[0].set_ylabel('Count', fontsize=12)\n",
    "\n",
    "sns.histplot(comedy_critics_ratings, bins=20, color='orange', label='Critics Rating', alpha=0.5, ax=axes[1])\n",
    "axes[1].set_title('Critics Ratings for Comedy Movies', fontsize=14)\n",
    "axes[1].set_xlabel('Rating', fontsize=12)\n",
    "axes[1].set_ylabel('Count', fontsize=12)\n",
    "\n",
    "plt.tight_layout()\n",
    "plt.show()"
   ]
  },
  {
   "cell_type": "markdown",
   "id": "218cefc7-2204-4eaa-973f-ac3843af8d9b",
   "metadata": {},
   "source": [
    "Since we already know that both audience ratings and critics ratings do not follow a normal distribution, we need to use a non-parametric test. \n",
    "Given that we are comparing two dependent (paired) groups – audience ratings and critics ratings for the same movies – the appropriate test is the Wilcoxon Signed-Rank Test. \n",
    "This test evaluates whether there is a significant difference between the two related distributions without assuming normality."
   ]
  },
  {
   "cell_type": "code",
   "execution_count": 19,
   "id": "86f1a386-5692-4e99-977c-7f56cc678b9b",
   "metadata": {},
   "outputs": [
    {
     "name": "stdout",
     "output_type": "stream",
     "text": [
      "Wilcoxon Signed-Rank Test: W = 75533.0, p = 1.4244661412057102e-38\n"
     ]
    }
   ],
   "source": [
    "wilcoxon_test = stats.wilcoxon(comedy_audience_ratings, comedy_critics_ratings)\n",
    "print(f\"Wilcoxon Signed-Rank Test: W = {wilcoxon_test.statistic}, p = {wilcoxon_test.pvalue}\")"
   ]
  },
  {
   "cell_type": "markdown",
   "id": "811dfdbe-fe15-4553-9631-9b31a58ce011",
   "metadata": {},
   "source": [
    "Since the p-value is far below 0.05, we reject the null hypothesis. This means that there is a statistically significant difference between audience ratings and critics ratings for comedy movies."
   ]
  },
  {
   "cell_type": "markdown",
   "id": "d98c61b2-d385-4d19-a492-c1749ae617d5",
   "metadata": {},
   "source": [
    "Despite the statistical differences between the ratings, a correlation between them may still exist. \n",
    "Due to the non-normality of the distributions, Spearman's rank correlation will be applied as it does not assume a linear relationship or normality, making it more suitable for the given data."
   ]
  },
  {
   "cell_type": "code",
   "execution_count": 20,
   "id": "6c338f48-dcd1-4641-a0d7-34a5c39d051a",
   "metadata": {},
   "outputs": [
    {
     "data": {
      "image/png": "[encoded data removed]",
      "text/plain": [
       "<Figure size 576x432 with 1 Axes>"
      ]
     },
     "metadata": {
      "needs_background": "light"
     },
     "output_type": "display_data"
    }
   ],
   "source": [
    "plt.figure(figsize=(8,6))\n",
    "\n",
    "plt.scatter(comedy_audience_ratings, comedy_critics_ratings, color=\"navy\", alpha=0.6)\n",
    "plt.xlabel(\"Audience Ratings\", fontsize=14)\n",
    "plt.ylabel(\"Critics Ratings\", fontsize=14)\n",
    "plt.title(\"Scatterplot: Audience vs Critics Ratings for Comedy Movies\", fontsize=16)\n",
    "plt.grid(True, linestyle=\"--\", alpha=0.5)\n",
    "\n",
    "plt.show()"
   ]
  },
  {
   "cell_type": "code",
   "execution_count": 21,
   "id": "a7a40344-5a99-4f3a-bdd0-9f225210bb63",
   "metadata": {},
   "outputs": [
    {
     "name": "stdout",
     "output_type": "stream",
     "text": [
      "Pearson Correlation Coefficient: 0.703\n",
      "P-value: 1.843e-122\n"
     ]
    }
   ],
   "source": [
    "pearson_corr, p_value = pearsonr(comedy_audience_ratings, comedy_critics_ratings)\n",
    "\n",
    "print(f\"Pearson Correlation Coefficient: {pearson_corr:.3f}\")\n",
    "print(f\"P-value: {p_value:.3e}\")"
   ]
  },
  {
   "cell_type": "markdown",
   "id": "19065d01-51bf-4fc1-8d5e-7d76d4cd2eae",
   "metadata": {},
   "source": [
    "The Pearson correlation coefficient (ρ = 0.709) indicates a strong positive correlation between audience ratings and critics ratings for comedy movies. This suggests that, in general, higher audience ratings tend to be associated with higher critics ratings."
   ]
  },
  {
   "cell_type": "markdown",
   "id": "b24cd085-18de-4b36-9038-fefbbceeea8b",
   "metadata": {},
   "source": [
    "<i><b>Answer:\n",
    "The analysis shows that audience ratings and critics ratings for comedy movies differ statistically. This means that, on average, audiences and critics rate comedy movies differently.\n",
    "However, the Pearson correlation coefficient indicates a strong positive relationship between the two rating systems. This suggests that while there is a systematic difference in the way audiences and critics rate comedy movies, their scores still tend to follow a similar pattern.</i></b>"
   ]
  },
  {
   "cell_type": "code",
   "execution_count": null,
   "id": "45ab3b8a-20db-4b81-b533-6cfc7a324345",
   "metadata": {},
   "outputs": [],
   "source": []
  }
 ],
 "metadata": {
  "kernelspec": {
   "display_name": "Python 3 (ipykernel)",
   "language": "python",
   "name": "python3"
  },
  "language_info": {
   "codemirror_mode": {
    "name": "ipython",
    "version": 3
   },
   "file_extension": ".py",
   "mimetype": "text/x-python",
   "name": "python",
   "nbconvert_exporter": "python",
   "pygments_lexer": "ipython3",
   "version": "3.9.12"
  }
 },
 "nbformat": 4,
 "nbformat_minor": 5
}
