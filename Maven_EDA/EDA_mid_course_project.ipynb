{
 "cells": [
  {
   "cell_type": "markdown",
   "id": "9e3b5f80-7733-4e3b-b1fd-c3749e8b8a71",
   "metadata": {},
   "source": [
    "# Rotten Tomatoes Movies Database EDA"
   ]
  },
  {
   "cell_type": "markdown",
   "id": "0cbbfdac-0070-460f-b2ca-9771bcf68f8a",
   "metadata": {
    "tags": []
   },
   "source": [
    "### Importing libraries and data"
   ]
  },
  {
   "cell_type": "code",
   "execution_count": 23,
   "id": "b94cfb85-8b95-41a4-9982-9d20998f9949",
   "metadata": {},
   "outputs": [],
   "source": [
    "import numpy as np\n",
    "import pandas as pd\n",
    "import matplotlib.pyplot as plt\n",
    "import seaborn as sns"
   ]
  },
  {
   "cell_type": "code",
   "execution_count": 15,
   "id": "e43530e7-c463-4745-88cf-1cbf2183e52d",
   "metadata": {},
   "outputs": [],
   "source": [
    "df = pd.read_csv(r'C:\\Users\\wrons\\Desktop\\Udemy\\Maven Python EDA\\Data\\Rotten Tomatoes Movies.csv')"
   ]
  },
  {
   "cell_type": "markdown",
   "id": "c1067c9a-80ff-4f1c-9e57-ea699ae1d75a",
   "metadata": {
    "tags": []
   },
   "source": [
    "### Basic data exploration"
   ]
  },
  {
   "cell_type": "code",
   "execution_count": 16,
   "id": "adf2903d-f68a-44d2-afc8-54d41d36436d",
   "metadata": {
    "tags": []
   },
   "outputs": [
    {
     "data": {
      "text/html": [
       "<div>\n",
       "<style scoped>\n",
       "    .dataframe tbody tr th:only-of-type {\n",
       "        vertical-align: middle;\n",
       "    }\n",
       "\n",
       "    .dataframe tbody tr th {\n",
       "        vertical-align: top;\n",
       "    }\n",
       "\n",
       "    .dataframe thead th {\n",
       "        text-align: right;\n",
       "    }\n",
       "</style>\n",
       "<table border=\"1\" class=\"dataframe\">\n",
       "  <thead>\n",
       "    <tr style=\"text-align: right;\">\n",
       "      <th></th>\n",
       "      <th>movie_title</th>\n",
       "      <th>movie_info</th>\n",
       "      <th>critics_consensus</th>\n",
       "      <th>rating</th>\n",
       "      <th>genre</th>\n",
       "      <th>directors</th>\n",
       "      <th>writers</th>\n",
       "      <th>cast</th>\n",
       "      <th>in_theaters_date</th>\n",
       "      <th>on_streaming_date</th>\n",
       "      <th>runtime_in_minutes</th>\n",
       "      <th>studio_name</th>\n",
       "      <th>tomatometer_status</th>\n",
       "      <th>tomatometer_rating</th>\n",
       "      <th>tomatometer_count</th>\n",
       "      <th>audience_rating</th>\n",
       "      <th>audience_count</th>\n",
       "    </tr>\n",
       "  </thead>\n",
       "  <tbody>\n",
       "    <tr>\n",
       "      <th>5172</th>\n",
       "      <td>The Devil's Advocate</td>\n",
       "      <td>Supernatural forces hover over the courtroom i...</td>\n",
       "      <td>Though it is ultimately somewhat undone by its...</td>\n",
       "      <td>R</td>\n",
       "      <td>Action &amp; Adventure, Drama, Horror, Mystery &amp; S...</td>\n",
       "      <td>Taylor Hackford</td>\n",
       "      <td>Jonathan Lemkin, Tony Gilroy</td>\n",
       "      <td>Al Pacino, Keanu Reeves, Charlize Theron, Jeff...</td>\n",
       "      <td>1997-10-17</td>\n",
       "      <td>1998-11-16</td>\n",
       "      <td>130.0</td>\n",
       "      <td>Warner Home Video</td>\n",
       "      <td>Fresh</td>\n",
       "      <td>67</td>\n",
       "      <td>51</td>\n",
       "      <td>80.0</td>\n",
       "      <td>230351.0</td>\n",
       "    </tr>\n",
       "    <tr>\n",
       "      <th>16081</th>\n",
       "      <td>Weekend</td>\n",
       "      <td>Weekend follows Russell (newcomer Tom Cullen, ...</td>\n",
       "      <td>It may be a chamber piece but Weekend's revela...</td>\n",
       "      <td>NR</td>\n",
       "      <td>Action &amp; Adventure, Drama</td>\n",
       "      <td>Andrew Haigh</td>\n",
       "      <td>Andrew Haigh</td>\n",
       "      <td>Tom Cullen, Chris New, Jonathan Race, Laura Fr...</td>\n",
       "      <td>2011-09-23</td>\n",
       "      <td>2012-08-21</td>\n",
       "      <td>96.0</td>\n",
       "      <td>IFC Films</td>\n",
       "      <td>Certified Fresh</td>\n",
       "      <td>95</td>\n",
       "      <td>83</td>\n",
       "      <td>86.0</td>\n",
       "      <td>7505.0</td>\n",
       "    </tr>\n",
       "    <tr>\n",
       "      <th>16361</th>\n",
       "      <td>The Wings of the Dove</td>\n",
       "      <td>British director Ian Softley's take on this le...</td>\n",
       "      <td>The Wings of the Dove patiently explores class...</td>\n",
       "      <td>R</td>\n",
       "      <td>Drama, Romance</td>\n",
       "      <td>Iain Softley</td>\n",
       "      <td>Hossein Amini</td>\n",
       "      <td>Helena Bonham Carter, Linus Roache, Alison Ell...</td>\n",
       "      <td>1997-11-07</td>\n",
       "      <td>1999-09-14</td>\n",
       "      <td>98.0</td>\n",
       "      <td>Miramax</td>\n",
       "      <td>Fresh</td>\n",
       "      <td>84</td>\n",
       "      <td>32</td>\n",
       "      <td>78.0</td>\n",
       "      <td>5595.0</td>\n",
       "    </tr>\n",
       "    <tr>\n",
       "      <th>14001</th>\n",
       "      <td>The Dogs of War</td>\n",
       "      <td>Adapted from the Frederick Forsythe novel, Dog...</td>\n",
       "      <td>NaN</td>\n",
       "      <td>R</td>\n",
       "      <td>Action &amp; Adventure, Art House &amp; International,...</td>\n",
       "      <td>John Irvin</td>\n",
       "      <td>Gary M. Devore, George Malko, Leonard Glasser</td>\n",
       "      <td>Christopher Walken, Tom Berenger, Colin Blakel...</td>\n",
       "      <td>1980-06-01</td>\n",
       "      <td>2001-11-20</td>\n",
       "      <td>104.0</td>\n",
       "      <td>Twentieth Century Fox Home Entertainment</td>\n",
       "      <td>Fresh</td>\n",
       "      <td>67</td>\n",
       "      <td>18</td>\n",
       "      <td>52.0</td>\n",
       "      <td>5407.0</td>\n",
       "    </tr>\n",
       "    <tr>\n",
       "      <th>10588</th>\n",
       "      <td>November Criminals</td>\n",
       "      <td>After the murder of his friend is dismissed as...</td>\n",
       "      <td>NaN</td>\n",
       "      <td>PG-13</td>\n",
       "      <td>Drama, Mystery &amp; Suspense</td>\n",
       "      <td>Sacha Gervasi</td>\n",
       "      <td>Sacha Gervasi, Steven Knight</td>\n",
       "      <td>Chloë Grace Moretz, Catherine Keener, Ansel El...</td>\n",
       "      <td>2017-12-08</td>\n",
       "      <td>2018-01-09</td>\n",
       "      <td>85.0</td>\n",
       "      <td>Vertical Entertainment</td>\n",
       "      <td>Rotten</td>\n",
       "      <td>0</td>\n",
       "      <td>10</td>\n",
       "      <td>23.0</td>\n",
       "      <td>763.0</td>\n",
       "    </tr>\n",
       "  </tbody>\n",
       "</table>\n",
       "</div>"
      ],
      "text/plain": [
       "                 movie_title  \\\n",
       "5172    The Devil's Advocate   \n",
       "16081                Weekend   \n",
       "16361  The Wings of the Dove   \n",
       "14001        The Dogs of War   \n",
       "10588     November Criminals   \n",
       "\n",
       "                                              movie_info  \\\n",
       "5172   Supernatural forces hover over the courtroom i...   \n",
       "16081  Weekend follows Russell (newcomer Tom Cullen, ...   \n",
       "16361  British director Ian Softley's take on this le...   \n",
       "14001  Adapted from the Frederick Forsythe novel, Dog...   \n",
       "10588  After the murder of his friend is dismissed as...   \n",
       "\n",
       "                                       critics_consensus rating  \\\n",
       "5172   Though it is ultimately somewhat undone by its...      R   \n",
       "16081  It may be a chamber piece but Weekend's revela...     NR   \n",
       "16361  The Wings of the Dove patiently explores class...      R   \n",
       "14001                                                NaN      R   \n",
       "10588                                                NaN  PG-13   \n",
       "\n",
       "                                                   genre        directors  \\\n",
       "5172   Action & Adventure, Drama, Horror, Mystery & S...  Taylor Hackford   \n",
       "16081                          Action & Adventure, Drama     Andrew Haigh   \n",
       "16361                                     Drama, Romance     Iain Softley   \n",
       "14001  Action & Adventure, Art House & International,...       John Irvin   \n",
       "10588                          Drama, Mystery & Suspense    Sacha Gervasi   \n",
       "\n",
       "                                             writers  \\\n",
       "5172                    Jonathan Lemkin, Tony Gilroy   \n",
       "16081                                   Andrew Haigh   \n",
       "16361                                  Hossein Amini   \n",
       "14001  Gary M. Devore, George Malko, Leonard Glasser   \n",
       "10588                   Sacha Gervasi, Steven Knight   \n",
       "\n",
       "                                                    cast in_theaters_date  \\\n",
       "5172   Al Pacino, Keanu Reeves, Charlize Theron, Jeff...       1997-10-17   \n",
       "16081  Tom Cullen, Chris New, Jonathan Race, Laura Fr...       2011-09-23   \n",
       "16361  Helena Bonham Carter, Linus Roache, Alison Ell...       1997-11-07   \n",
       "14001  Christopher Walken, Tom Berenger, Colin Blakel...       1980-06-01   \n",
       "10588  Chloë Grace Moretz, Catherine Keener, Ansel El...       2017-12-08   \n",
       "\n",
       "      on_streaming_date  runtime_in_minutes  \\\n",
       "5172         1998-11-16               130.0   \n",
       "16081        2012-08-21                96.0   \n",
       "16361        1999-09-14                98.0   \n",
       "14001        2001-11-20               104.0   \n",
       "10588        2018-01-09                85.0   \n",
       "\n",
       "                                    studio_name tomatometer_status  \\\n",
       "5172                          Warner Home Video              Fresh   \n",
       "16081                                 IFC Films    Certified Fresh   \n",
       "16361                                   Miramax              Fresh   \n",
       "14001  Twentieth Century Fox Home Entertainment              Fresh   \n",
       "10588                    Vertical Entertainment             Rotten   \n",
       "\n",
       "       tomatometer_rating  tomatometer_count  audience_rating  audience_count  \n",
       "5172                   67                 51             80.0        230351.0  \n",
       "16081                  95                 83             86.0          7505.0  \n",
       "16361                  84                 32             78.0          5595.0  \n",
       "14001                  67                 18             52.0          5407.0  \n",
       "10588                   0                 10             23.0           763.0  "
      ]
     },
     "execution_count": 16,
     "metadata": {},
     "output_type": "execute_result"
    }
   ],
   "source": [
    "df.sample(5)"
   ]
  },
  {
   "cell_type": "code",
   "execution_count": 33,
   "id": "009b6fa4-3bec-4496-a48e-71d8c9e427c3",
   "metadata": {},
   "outputs": [
    {
     "name": "stdout",
     "output_type": "stream",
     "text": [
      "<class 'pandas.core.frame.DataFrame'>\n",
      "RangeIndex: 16638 entries, 0 to 16637\n",
      "Data columns (total 18 columns):\n",
      " #   Column                Non-Null Count  Dtype         \n",
      "---  ------                --------------  -----         \n",
      " 0   movie_title           16638 non-null  object        \n",
      " 1   movie_info            16614 non-null  object        \n",
      " 2   critics_consensus     8309 non-null   object        \n",
      " 3   rating                16638 non-null  object        \n",
      " 4   genre                 16621 non-null  object        \n",
      " 5   directors             16524 non-null  object        \n",
      " 6   writers               15289 non-null  object        \n",
      " 7   cast                  16354 non-null  object        \n",
      " 8   in_theaters_date      15823 non-null  datetime64[ns]\n",
      " 9   on_streaming_date     16636 non-null  object        \n",
      " 10  runtime_in_minutes    16483 non-null  float64       \n",
      " 11  studio_name           16222 non-null  object        \n",
      " 12  tomatometer_status    16638 non-null  object        \n",
      " 13  tomatometer_rating    16638 non-null  int64         \n",
      " 14  tomatometer_count     16638 non-null  int64         \n",
      " 15  audience_rating       16386 non-null  float64       \n",
      " 16  audience_count        16386 non-null  float64       \n",
      " 17  on_streaming_date     16636 non-null  datetime64[ns]\n",
      "dtypes: datetime64[ns](2), float64(3), int64(2), object(11)\n",
      "memory usage: 2.3+ MB\n"
     ]
    }
   ],
   "source": [
    "movies.info()"
   ]
  },
  {
   "cell_type": "code",
   "execution_count": 32,
   "id": "0a65be89-ce39-4d55-aebd-66c0c34b7b7e",
   "metadata": {},
   "outputs": [],
   "source": [
    "movies['in_theaters_date'] = pd.to_datetime(movies['in_theaters_date'])\n",
    "movies['on_streaming_date   '] = pd.to_datetime(movies['on_streaming_date'])"
   ]
  },
  {
   "cell_type": "code",
   "execution_count": 18,
   "id": "296e503c-daf4-46ef-9734-f91f01993a0a",
   "metadata": {},
   "outputs": [
    {
     "data": {
      "text/plain": [
       "movie_title           16106\n",
       "movie_info            16613\n",
       "critics_consensus      8307\n",
       "rating                    8\n",
       "genre                  1080\n",
       "directors              8314\n",
       "writers               12121\n",
       "cast                  16326\n",
       "in_theaters_date       5586\n",
       "on_streaming_date      2260\n",
       "runtime_in_minutes      201\n",
       "studio_name            2886\n",
       "tomatometer_status        3\n",
       "tomatometer_rating      101\n",
       "tomatometer_count       393\n",
       "audience_rating          98\n",
       "audience_count        10885\n",
       "dtype: int64"
      ]
     },
     "execution_count": 18,
     "metadata": {},
     "output_type": "execute_result"
    }
   ],
   "source": [
    "df.nunique()"
   ]
  },
  {
   "cell_type": "markdown",
   "id": "195dbf95-9e8d-4a51-b75c-72d22eeaddda",
   "metadata": {},
   "source": [
    "### Descriptive statistics for numerical data"
   ]
  },
  {
   "cell_type": "code",
   "execution_count": 20,
   "id": "d3d5e69d-82a1-4bcf-9113-03791836df10",
   "metadata": {},
   "outputs": [
    {
     "data": {
      "text/html": [
       "<div>\n",
       "<style scoped>\n",
       "    .dataframe tbody tr th:only-of-type {\n",
       "        vertical-align: middle;\n",
       "    }\n",
       "\n",
       "    .dataframe tbody tr th {\n",
       "        vertical-align: top;\n",
       "    }\n",
       "\n",
       "    .dataframe thead th {\n",
       "        text-align: right;\n",
       "    }\n",
       "</style>\n",
       "<table border=\"1\" class=\"dataframe\">\n",
       "  <thead>\n",
       "    <tr style=\"text-align: right;\">\n",
       "      <th></th>\n",
       "      <th>count</th>\n",
       "      <th>mean</th>\n",
       "      <th>std</th>\n",
       "      <th>min</th>\n",
       "      <th>25%</th>\n",
       "      <th>50%</th>\n",
       "      <th>75%</th>\n",
       "      <th>max</th>\n",
       "    </tr>\n",
       "  </thead>\n",
       "  <tbody>\n",
       "    <tr>\n",
       "      <th>runtime_in_minutes</th>\n",
       "      <td>16483.0</td>\n",
       "      <td>102.391494</td>\n",
       "      <td>2.502801e+01</td>\n",
       "      <td>1.0</td>\n",
       "      <td>90.00</td>\n",
       "      <td>99.0</td>\n",
       "      <td>111.0</td>\n",
       "      <td>2000.0</td>\n",
       "    </tr>\n",
       "    <tr>\n",
       "      <th>tomatometer_rating</th>\n",
       "      <td>16638.0</td>\n",
       "      <td>60.466522</td>\n",
       "      <td>2.858723e+01</td>\n",
       "      <td>0.0</td>\n",
       "      <td>38.00</td>\n",
       "      <td>66.0</td>\n",
       "      <td>86.0</td>\n",
       "      <td>100.0</td>\n",
       "    </tr>\n",
       "    <tr>\n",
       "      <th>tomatometer_count</th>\n",
       "      <td>16638.0</td>\n",
       "      <td>56.607104</td>\n",
       "      <td>6.638380e+01</td>\n",
       "      <td>5.0</td>\n",
       "      <td>12.00</td>\n",
       "      <td>28.0</td>\n",
       "      <td>76.0</td>\n",
       "      <td>497.0</td>\n",
       "    </tr>\n",
       "    <tr>\n",
       "      <th>audience_rating</th>\n",
       "      <td>16386.0</td>\n",
       "      <td>60.470829</td>\n",
       "      <td>2.046237e+01</td>\n",
       "      <td>0.0</td>\n",
       "      <td>45.00</td>\n",
       "      <td>62.0</td>\n",
       "      <td>77.0</td>\n",
       "      <td>100.0</td>\n",
       "    </tr>\n",
       "    <tr>\n",
       "      <th>audience_count</th>\n",
       "      <td>16386.0</td>\n",
       "      <td>152479.701086</td>\n",
       "      <td>1.817736e+06</td>\n",
       "      <td>5.0</td>\n",
       "      <td>864.25</td>\n",
       "      <td>4876.5</td>\n",
       "      <td>28752.0</td>\n",
       "      <td>35797635.0</td>\n",
       "    </tr>\n",
       "  </tbody>\n",
       "</table>\n",
       "</div>"
      ],
      "text/plain": [
       "                      count           mean           std  min     25%     50%  \\\n",
       "runtime_in_minutes  16483.0     102.391494  2.502801e+01  1.0   90.00    99.0   \n",
       "tomatometer_rating  16638.0      60.466522  2.858723e+01  0.0   38.00    66.0   \n",
       "tomatometer_count   16638.0      56.607104  6.638380e+01  5.0   12.00    28.0   \n",
       "audience_rating     16386.0      60.470829  2.046237e+01  0.0   45.00    62.0   \n",
       "audience_count      16386.0  152479.701086  1.817736e+06  5.0  864.25  4876.5   \n",
       "\n",
       "                        75%         max  \n",
       "runtime_in_minutes    111.0      2000.0  \n",
       "tomatometer_rating     86.0       100.0  \n",
       "tomatometer_count      76.0       497.0  \n",
       "audience_rating        77.0       100.0  \n",
       "audience_count      28752.0  35797635.0  "
      ]
     },
     "execution_count": 20,
     "metadata": {},
     "output_type": "execute_result"
    }
   ],
   "source": [
    "df.describe(include=[np.number]).T"
   ]
  },
  {
   "cell_type": "code",
   "execution_count": 36,
   "id": "e00414d8-ee18-46c6-bbbe-b1d0de98f449",
   "metadata": {},
   "outputs": [
    {
     "data": {
      "image/png": "[encoded data removed]",
      "text/plain": [
       "<Figure size 720x432 with 1 Axes>"
      ]
     },
     "metadata": {
      "needs_background": "light"
     },
     "output_type": "display_data"
    }
   ],
   "source": [
    "plt.figure(figsize=(10, 6))\n",
    "sns.histplot(df['audience_rating'], bins=20, color='navy')\n",
    "\n",
    "plt.title('Distribution of Audience Ratings', fontsize=14)\n",
    "plt.xlabel('Audience Rating', fontsize=12)\n",
    "plt.ylabel('Count', fontsize=12)\n",
    "\n",
    "plt.show()"
   ]
  },
  {
   "cell_type": "code",
   "execution_count": 37,
   "id": "f480e585-6f5c-41b6-8892-cca055c8e436",
   "metadata": {},
   "outputs": [
    {
     "data": {
      "image/png": "[encoded data removed]",
      "text/plain": [
       "<Figure size 720x432 with 1 Axes>"
      ]
     },
     "metadata": {
      "needs_background": "light"
     },
     "output_type": "display_data"
    }
   ],
   "source": [
    "plt.figure(figsize=(10, 6))\n",
    "sns.histplot(df['tomatometer_rating'], bins=20, color='orange')\n",
    "\n",
    "plt.title('Distribution of Critics Ratings', fontsize=14)\n",
    "plt.xlabel('Critics Rating', fontsize=12)\n",
    "plt.ylabel('Count', fontsize=12)\n",
    "\n",
    "plt.show()"
   ]
  },
  {
   "cell_type": "code",
   "execution_count": null,
   "id": "efa8adf9-71ce-49fb-bf7b-fe32e2d4aad0",
   "metadata": {},
   "outputs": [],
   "source": []
  }
 ],
 "metadata": {
  "kernelspec": {
   "display_name": "Python 3 (ipykernel)",
   "language": "python",
   "name": "python3"
  },
  "language_info": {
   "codemirror_mode": {
    "name": "ipython",
    "version": 3
   },
   "file_extension": ".py",
   "mimetype": "text/x-python",
   "name": "python",
   "nbconvert_exporter": "python",
   "pygments_lexer": "ipython3",
   "version": "3.9.12"
  }
 },
 "nbformat": 4,
 "nbformat_minor": 5
}
